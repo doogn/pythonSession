{
 "cells": [
  {
   "cell_type": "markdown",
   "metadata": {},
   "source": [
    "## 2. 문자열"
   ]
  },
  {
   "cell_type": "code",
   "execution_count": 7,
   "metadata": {},
   "outputs": [
    {
     "name": "stdout",
     "output_type": "stream",
     "text": [
      "This is 'String' value\n",
      "This is \"String\" value\n",
      "\"This is 'String' Value.\", He said. \n"
     ]
    }
   ],
   "source": [
    "print (\"This is 'String' value\")\n",
    "print ('This is \"String\" value')\n",
    "print (\"\"\"\"This is 'String' Value.\", He said. \"\"\")"
   ]
  },
  {
   "cell_type": "code",
   "execution_count": 3,
   "metadata": {},
   "outputs": [
    {
     "name": "stdout",
     "output_type": "stream",
     "text": [
      "polytech student\n",
      "******************** 문자열 연산 프로그램 ********************\n",
      "2\n",
      "2018\n",
      "01\n"
     ]
    }
   ],
   "source": [
    "# 문자열 더하기\n",
    "head = \"polytech\"\n",
    "tail = \"student\"\n",
    "fullString = head + \" \" + tail\n",
    "print(fullString)\n",
    "\n",
    "# 문자열 곱하기 / 문자열간 + 생략 가능\n",
    "print(\"*\"*20+\" 문자열 연산 프로그램 \"+\"*\"*20)\n",
    "\n",
    "# 문자열 인덱싱 0부터 시작\n",
    "yearweek = \"201801\"\n",
    "print(yearweek[0])\n",
    "print(yearweek[0:4])\n",
    "print(yearweek[4:])"
   ]
  },
  {
   "cell_type": "code",
   "execution_count": 28,
   "metadata": {},
   "outputs": [
    {
     "name": "stdout",
     "output_type": "stream",
     "text": [
      "1\n",
      "4\n",
      "['201728']\n",
      "ABCDEFGHI\n",
      "abcdefghi\n",
      "aBcDeFgHi\n",
      "aHcDeFgHi\n",
      "['2017', '28']\n"
     ]
    }
   ],
   "source": [
    "# 문자열 관련 함수 알아두기\n",
    "# 문자열 개수 세기\n",
    "yearweek = \"2017W28\"\n",
    "print(yearweek.count('W'))\n",
    "\n",
    "# 문자열 위치확인\n",
    "print(yearweek.index('W'))\n",
    "delimeter = yearweek.index('W')\n",
    "yearweek_new = yearweek[:delimeter]+yearweek[delimeter+1:]\n",
    "print([yearweek_new])\n",
    "\n",
    "# 이외 upper, lower, replace\n",
    "mix = \"aBcDeFgHi\"\n",
    "mix_upper = mix.upper()\n",
    "mix_lower = mix.lower()\n",
    "print(mix_upper)\n",
    "print(mix_lower)\n",
    "print(mix)\n",
    "mix_replace = mix.replace(\"B\", \"H\")\n",
    "print(mix_replace)\n",
    "\n",
    "# split 함수\n",
    "yearweek_list = yearweek.split(\"W\")\n",
    "print(yearweek_list)"
   ]
  },
  {
   "cell_type": "code",
   "execution_count": 24,
   "metadata": {},
   "outputs": [
    {
     "name": "stdout",
     "output_type": "stream",
     "text": [
      "['SEC', '20180212', '250']\n",
      "SEC\n",
      "20180212\n",
      "250\n"
     ]
    }
   ],
   "source": [
    "# 실습 예제 (p.21)\n",
    "# “SEC 20180212 250” 문자열 생성 후 stock_name, date, value로 각각 의미하는 문자열을 생성하세요\n",
    "string = \"SEC 20180212 250\"\n",
    "string2 = string.split(\" \")\n",
    "print (string2)\n",
    "\n",
    "stock_name = string2[0]\n",
    "date = string2[1]\n",
    "value = string2[2]\n",
    "print(stock_name)\n",
    "print(date)\n",
    "print(value)\n",
    "\n",
    "#stock_name = string[0:3]\n",
    "#date = string[4:12]\n",
    "#value = string[13:]"
   ]
  },
  {
   "cell_type": "code",
   "execution_count": null,
   "metadata": {},
   "outputs": [],
   "source": [
    "# 실습 예제 (p.22)\n",
    "# “Sec 2018W28 250” 문자열 생성 후 stock_name, date, value로 각각 의미하는 문자열을 생성하세요\n",
    "# (단 모두 대문자여야 하며, ‘W’를 삭제해야함)\n",
    "\n"
   ]
  }
 ],
 "metadata": {
  "kernelspec": {
   "display_name": "Python 3",
   "language": "python",
   "name": "python3"
  },
  "language_info": {
   "codemirror_mode": {
    "name": "ipython",
    "version": 3
   },
   "file_extension": ".py",
   "mimetype": "text/x-python",
   "name": "python",
   "nbconvert_exporter": "python",
   "pygments_lexer": "ipython3",
   "version": "3.6.4"
  }
 },
 "nbformat": 4,
 "nbformat_minor": 2
}
