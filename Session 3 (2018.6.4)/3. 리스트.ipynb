{
 "cells": [
  {
   "cell_type": "markdown",
   "metadata": {},
   "source": [
    "## 3. 리스트"
   ]
  },
  {
   "cell_type": "code",
   "execution_count": 7,
   "metadata": {},
   "outputs": [
    {
     "name": "stdout",
     "output_type": "stream",
     "text": [
      "[120, 130, 140, 100, 150, 100, 11, 12]\n",
      "[11, 12, 100, 100, 120, 130, 140, 150]\n",
      "7\n",
      "8\n",
      "11\n",
      "150\n",
      "763\n"
     ]
    }
   ],
   "source": [
    "functionList = [120,130,140,150]\n",
    "#리스트에 요소 추가하기\n",
    "functionList.append(100)\n",
    "functionList.insert(3,100)\n",
    "functionList.extend([11,12])\n",
    "print(functionList)\n",
    "#리스트 정렬하기\n",
    "functionList.sort(reverse = False)\n",
    "print(functionList)\n",
    "#값으로 인덱스 가져오기\n",
    "print(functionList.index(150))\n",
    "#리스트 자주사용하는 함수\n",
    "print(len(functionList))\n",
    "print(min(functionList))\n",
    "print(max(functionList))\n",
    "print(sum(functionList))"
   ]
  },
  {
   "cell_type": "code",
   "execution_count": 11,
   "metadata": {},
   "outputs": [
    {
     "name": "stdout",
     "output_type": "stream",
     "text": [
      "[120, 150, 300, 500, 1000, 100, 2000]\n",
      "[120, 150, 300, 500, 1000]\n",
      "414.0\n"
     ]
    }
   ],
   "source": [
    "# 실습 예제 (p.28)\n",
    "# [120,150,300,500,1000,100,2000] 값에서 최소 최대 값을 뺀 평균 averagelist를 구하세요\n",
    "\n",
    "valueList = [120,150,300,500,1000,100,2000]\n",
    "print(valueList)\n",
    "valueList.remove(min(valueList))\n",
    "valueList.remove(max(valueList))\n",
    "print(valueList)\n",
    "average = sum(valueList) / len(valueList)\n",
    "print(average)"
   ]
  },
  {
   "cell_type": "code",
   "execution_count": 16,
   "metadata": {},
   "outputs": [
    {
     "name": "stdout",
     "output_type": "stream",
     "text": [
      "[120, 150, 300, 500, 1000, 100, 2000]\n",
      "[120, 150, 300, 500, 1000]\n",
      "414.0\n"
     ]
    }
   ],
   "source": [
    "# 실습 예제 (p.28)\n",
    "# [120,150,300,500,1000,100,2000] 값에서 최소 최대 값을 뺀 평균 averagelist를 구하세요\n",
    "\n",
    "valueList = [120,150,300,500,1000,100,2000]\n",
    "print(valueList)\n",
    "valueList.pop(valueList.index(min(valueList)))\n",
    "valueList.pop(valueList.index(max(valueList)))\n",
    "print(valueList)\n",
    "average = sum(valueList) / len(valueList)\n",
    "print(average)"
   ]
  },
  {
   "cell_type": "code",
   "execution_count": 14,
   "metadata": {},
   "outputs": [
    {
     "name": "stdout",
     "output_type": "stream",
     "text": [
      "[1, 2]\n",
      "3\n"
     ]
    }
   ],
   "source": [
    "a = [1,2,3]\n",
    "b = a.pop()\n",
    "print (a)\n",
    "print (b)"
   ]
  }
 ],
 "metadata": {
  "kernelspec": {
   "display_name": "Python 3",
   "language": "python",
   "name": "python3"
  },
  "language_info": {
   "codemirror_mode": {
    "name": "ipython",
    "version": 3
   },
   "file_extension": ".py",
   "mimetype": "text/x-python",
   "name": "python",
   "nbconvert_exporter": "python",
   "pygments_lexer": "ipython3",
   "version": "3.6.4"
  }
 },
 "nbformat": 4,
 "nbformat_minor": 2
}
